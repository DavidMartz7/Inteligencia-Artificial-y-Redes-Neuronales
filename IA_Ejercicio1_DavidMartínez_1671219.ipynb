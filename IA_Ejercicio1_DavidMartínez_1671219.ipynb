{
  "nbformat": 4,
  "nbformat_minor": 0,
  "metadata": {
    "colab": {
      "provenance": [],
      "authorship_tag": "ABX9TyNUxDVHEaD7NBOOT4CIicNY",
      "include_colab_link": true
    },
    "kernelspec": {
      "name": "python3",
      "display_name": "Python 3"
    },
    "language_info": {
      "name": "python"
    }
  },
  "cells": [
    {
      "cell_type": "markdown",
      "metadata": {
        "id": "view-in-github",
        "colab_type": "text"
      },
      "source": [
        "<a href=\"https://colab.research.google.com/github/DavidMartz7/Inteligencia-Artificial-y-Redes-Neuronales/blob/main/IA_Ejercicio1_DavidMart%C3%ADnez_1671219.ipynb\" target=\"_parent\"><img src=\"https://colab.research.google.com/assets/colab-badge.svg\" alt=\"Open In Colab\"/></a>"
      ]
    },
    {
      "cell_type": "markdown",
      "source": [
        "**Ejercicios en Python 1**\n",
        "\n",
        "---\n",
        "\n",
        "Luis David Martínez Escobedo - 1671219 - N1"
      ],
      "metadata": {
        "id": "U8sXoiIdlnwh"
      }
    },
    {
      "cell_type": "code",
      "source": [
        "nombre = input(\"Hola, ¿Cual es tu nombre?, (Que la primer letra sea mayuscula)  \")\n",
        "#Explica que la primer letra sea mayuscula para simplificar la condición.\n",
        "if nombre ==\"Ana\" or nombre == \"Juan\" or nombre == \"Pedro\":\n",
        "  print(\"¿?\")\n",
        "else: print(\"¡Hola!, \" + nombre)"
      ],
      "metadata": {
        "colab": {
          "base_uri": "https://localhost:8080/"
        },
        "id": "GZ6N6IH0JQXE",
        "outputId": "aa1da244-ff3c-4126-ad8c-9fc63a2041db"
      },
      "execution_count": 89,
      "outputs": [
        {
          "output_type": "stream",
          "name": "stdout",
          "text": [
            "Hola, ¿Cual es tu nombre?, (Que la primer letra sea mayuscula)  David\n",
            "¡Hola!, David\n"
          ]
        }
      ]
    },
    {
      "cell_type": "code",
      "source": [
        "def funcion(alumnos):\n",
        "  print(alumnos[-1])\n",
        "  inversa = alumnos[::-1]\n",
        "  print(inversa)\n",
        "nombres= [\"Luis\",\"David\",\"Erick\",\"Polet\"]\n",
        "funcion(nombres)"
      ],
      "metadata": {
        "colab": {
          "base_uri": "https://localhost:8080/"
        },
        "id": "cHi7X7mwP7GF",
        "outputId": "7c8a7375-69e5-4f93-a7c0-6064e35e8e96"
      },
      "execution_count": null,
      "outputs": [
        {
          "output_type": "stream",
          "name": "stdout",
          "text": [
            "Polet\n",
            "['Polet', 'Erick', 'David', 'Luis']\n"
          ]
        }
      ]
    },
    {
      "cell_type": "code",
      "source": [
        "def funcion(marco):\n",
        "  for x in marco:\n",
        "    print(x)\n",
        "marco=[\"*******\",\"*Hola *\",\"*a    *\",\"*todos*\",\"*esto *\",\"*es   *\",\"*un   *\",\"*marco*\",\"*******\"]\n",
        "funcion(marco)"
      ],
      "metadata": {
        "colab": {
          "base_uri": "https://localhost:8080/"
        },
        "id": "YSh2smxTSEFt",
        "outputId": "aa56f3b6-3500-4579-b3e1-cc536a7063e6"
      },
      "execution_count": null,
      "outputs": [
        {
          "output_type": "stream",
          "name": "stdout",
          "text": [
            "*******\n",
            "*Hola *\n",
            "*a    *\n",
            "*todos*\n",
            "*esto *\n",
            "*es   *\n",
            "*un   *\n",
            "*marco*\n",
            "*******\n"
          ]
        }
      ]
    },
    {
      "cell_type": "markdown",
      "source": [],
      "metadata": {
        "id": "txYOo2keL_Om"
      }
    }
  ]
}
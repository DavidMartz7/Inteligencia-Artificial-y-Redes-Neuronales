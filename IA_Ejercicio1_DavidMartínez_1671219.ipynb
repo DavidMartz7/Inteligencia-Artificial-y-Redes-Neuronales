{
  "nbformat": 4,
  "nbformat_minor": 0,
  "metadata": {
    "colab": {
      "provenance": [],
      "authorship_tag": "ABX9TyMrmnBlXqH3NgpbeSzCl1Db",
      "include_colab_link": true
    },
    "kernelspec": {
      "name": "python3",
      "display_name": "Python 3"
    },
    "language_info": {
      "name": "python"
    }
  },
  "cells": [
    {
      "cell_type": "markdown",
      "metadata": {
        "id": "view-in-github",
        "colab_type": "text"
      },
      "source": [
        "<a href=\"https://colab.research.google.com/github/DavidMartz7/Inteligencia-Artificial-y-Redes-Neuronales/blob/main/IA_Ejercicio1_DavidMart%C3%ADnez_1671219.ipynb\" target=\"_parent\"><img src=\"https://colab.research.google.com/assets/colab-badge.svg\" alt=\"Open In Colab\"/></a>"
      ]
    },
    {
      "cell_type": "code",
      "source": [
        "print(\"Ejercicios en Python 1 - Luis David Martínez Escobedo - 1671219 - N1\")"
      ],
      "metadata": {
        "colab": {
          "base_uri": "https://localhost:8080/"
        },
        "id": "fm37nPN-8QZ5",
        "outputId": "fb21718e-438a-452c-a30a-0b8767f79674"
      },
      "execution_count": 84,
      "outputs": [
        {
          "output_type": "stream",
          "name": "stdout",
          "text": [
            "Ejercicios en Python 1 - Luis David Martínez Escobedo - 1671219 - N1\n"
          ]
        }
      ]
    },
    {
      "cell_type": "code",
      "source": [
        "nombre = input(\"Hola, ¿Cual es tu nombre?, (Que la primer letra sea mayuscula)  \")\n",
        "#Explica que la primer letra sea mayuscula para simplificar la condición.\n",
        "if nombre ==\"Ana\" or nombre == \"Juan\" or nombre == \"Pedro\":\n",
        "  print(\"¿?\")\n",
        "else: print(\"¡Hola!, \" + nombre)"
      ],
      "metadata": {
        "colab": {
          "base_uri": "https://localhost:8080/"
        },
        "id": "GZ6N6IH0JQXE",
        "outputId": "df8e5a21-643f-4efe-f47e-d3a079271733"
      },
      "execution_count": 85,
      "outputs": [
        {
          "output_type": "stream",
          "name": "stdout",
          "text": [
            "Hola, ¿Cual es tu nombre?, (Que la primer letra sea mayuscula)  David\n",
            "¡Hola!, David\n"
          ]
        }
      ]
    },
    {
      "cell_type": "code",
      "source": [
        "def funcion(alumnos):\n",
        "  print(alumnos[-1])\n",
        "  inversa = alumnos[::-1]\n",
        "  print(inversa)\n",
        "nombres= [\"Luis\",\"David\",\"Erick\",\"Polet\"]\n",
        "funcion(nombres)"
      ],
      "metadata": {
        "colab": {
          "base_uri": "https://localhost:8080/"
        },
        "id": "cHi7X7mwP7GF",
        "outputId": "7c8a7375-69e5-4f93-a7c0-6064e35e8e96"
      },
      "execution_count": 86,
      "outputs": [
        {
          "output_type": "stream",
          "name": "stdout",
          "text": [
            "Polet\n",
            "['Polet', 'Erick', 'David', 'Luis']\n"
          ]
        }
      ]
    },
    {
      "cell_type": "code",
      "source": [
        "def funcion(marco):\n",
        "  for x in marco:\n",
        "    print(x)\n",
        "marco=[\"*******\",\"*Hola *\",\"*a    *\",\"*todos*\",\"*esto *\",\"*es   *\",\"*un   *\",\"*marco*\",\"*******\"]\n",
        "funcion(marco)"
      ],
      "metadata": {
        "colab": {
          "base_uri": "https://localhost:8080/"
        },
        "id": "YSh2smxTSEFt",
        "outputId": "aa56f3b6-3500-4579-b3e1-cc536a7063e6"
      },
      "execution_count": 87,
      "outputs": [
        {
          "output_type": "stream",
          "name": "stdout",
          "text": [
            "*******\n",
            "*Hola *\n",
            "*a    *\n",
            "*todos*\n",
            "*esto *\n",
            "*es   *\n",
            "*un   *\n",
            "*marco*\n",
            "*******\n"
          ]
        }
      ]
    },
    {
      "cell_type": "markdown",
      "source": [],
      "metadata": {
        "id": "txYOo2keL_Om"
      }
    }
  ]
}